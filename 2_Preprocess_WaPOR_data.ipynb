{
 "cells": [
  {
   "cell_type": "markdown",
   "metadata": {
    "slideshow": {
     "slide_type": "slide"
    }
   },
   "source": [
    "# 2. Preprocess WaPOR Precipitation data using python\n",
    "\n",
    "## 2.1 Clipping to Region of Interest\n",
    "### Example\n",
    "To clip raster mapset to a region of interest, a shapefile or the extent coordinate of the ROI is needed.\n",
    "For example, a shapefile of Wonji command area has been prepared. The code below shows how to get the exent of Wonji."
   ]
  },
  {
   "cell_type": "code",
   "execution_count": 1,
   "metadata": {
    "collapsed": false,
    "slideshow": {
     "slide_type": "slide"
    }
   },
   "outputs": [
    {
     "data": {
      "text/plain": [
       "[39.21262393877422, 8.332958544964365, 39.32191165240995, 8.453595960742314]"
      ]
     },
     "execution_count": 1,
     "metadata": {},
     "output_type": "execute_result"
    }
   ],
   "source": [
    "import shapefile\n",
    "tg_shp= r\"E:\\WaPOReg\\WonjiGE_SHP\\Wonji.shp\"\n",
    "shape = shapefile.Reader(tg_shp)\n",
    "shape.bbox"
   ]
  },
  {
   "cell_type": "code",
   "execution_count": 2,
   "metadata": {
    "collapsed": false,
    "slideshow": {
     "slide_type": "slide"
    }
   },
   "outputs": [
    {
     "data": {
      "text/plain": [
       "(39.21262393877422, 8.332958544964365, 39.32191165240995, 8.453595960742314)"
      ]
     },
     "execution_count": 2,
     "metadata": {},
     "output_type": "execute_result"
    }
   ],
   "source": [
    "extent=shape.bbox\n",
    "xmin,ymin,xmax,ymax=extent[0],extent[1],extent[2],extent[3]\n",
    "xmin,ymin,xmax,ymax"
   ]
  },
  {
   "cell_type": "markdown",
   "metadata": {},
   "source": [
    "To get a list of all raster handlers in the folder to be clipped, we can use package *glob* as following."
   ]
  },
  {
   "cell_type": "code",
   "execution_count": 3,
   "metadata": {
    "collapsed": false
   },
   "outputs": [
    {
     "name": "stdout",
     "output_type": "stream",
     "text": [
      "Number of files: 36\n"
     ]
    }
   ],
   "source": [
    "import glob\n",
    "input_folder=r'E:\\WaPOReg\\L3_AETI_AWA_D'\n",
    "input_fhs=glob.glob(input_folder+'\\*.tif')\n",
    "print('Number of files: {0}'.format(len(input_fhs)))"
   ]
  },
  {
   "cell_type": "markdown",
   "metadata": {},
   "source": [
    "The GDAL excutables *gdal_translate* can be used to quickly clip a raster file to a given extent. The excuteable can be called in command prompt console when its path is added to the environment variables (installment instruction).\n",
    "Below is an example to clip a raster file in the obtained list of raster handlers. First, the input and output file handlers are defined. Then, using *subprocess* package to run command line with *gdal_translate* in python console. "
   ]
  },
  {
   "cell_type": "code",
   "execution_count": 5,
   "metadata": {
    "collapsed": false
   },
   "outputs": [
    {
     "name": "stdout",
     "output_type": "stream",
     "text": [
      "in_fh: E:\\WaPOReg\\L3_AETI_AWA_D\\L3_AETI_0901_AWA.tif\n",
      "('Input file size is 3181, 2541\\r\\n0...10...20...30...40...50...60...70...80...90...100 - done.\\r\\n', '')\n",
      "out_fh: E:\\WaPOReg\\L3_AETI_AWA_D_clipped\\L3_AETI_0901_AWA.tif\n"
     ]
    }
   ],
   "source": [
    "import os\n",
    "output_folder=r'E:\\WaPOReg\\L3_AETI_AWA_D_clipped'\n",
    "in_fh=input_fhs[0]\n",
    "print('in_fh: '+in_fh)\n",
    "out_fh=os.path.join(output_folder,os.path.split(in_fh)[-1])\n",
    "\n",
    "import subprocess\n",
    "string='gdal_translate -of GTiff -ot Float32 -projwin {0} {1} {2} {3} {4} {5}'.format(xmin,ymax,xmax,ymin,in_fh,out_fh)\n",
    "proc = subprocess.Popen(string, stdout=subprocess.PIPE, stderr=subprocess.PIPE)\n",
    "out, err = proc.communicate()\n",
    "print(out,err)\n",
    "print('out_fh: '+out_fh)"
   ]
  },
  {
   "cell_type": "markdown",
   "metadata": {},
   "source": [
    "### Exercise (2.1)\n",
    "Clip all the downloaded L3_AETI_AWA_D and L3_APP_AWA_D raster data of Awash-Ethiopia to the extent of ROI (Wonji command area).\n",
    "\n",
    "**Hint**: \n",
    "\n",
    "You can use a for-loop\n",
    "\n",
    "**for** file **in** list_of_files:\n",
    "    do something with file    "
   ]
  },
  {
   "cell_type": "code",
   "execution_count": null,
   "metadata": {
    "collapsed": true
   },
   "outputs": [],
   "source": [
    "'''\n",
    "Write your code here\n",
    "'''"
   ]
  },
  {
   "cell_type": "code",
   "execution_count": null,
   "metadata": {
    "collapsed": true
   },
   "outputs": [],
   "source": [
    "for in_fh in input_fhs:\n",
    "    out_fh=os.path.join(output_folder,os.path.split(in_fh)[-1])\n",
    "    string='gdal_translate -of GTiff -ot Float32 -projwin {0} {1} {2} {3} {4} {5}'.format(xmin,ymax,xmax,ymin,in_fh,out_fh)\n",
    "    proc = subprocess.Popen(string, stdout=subprocess.PIPE, stderr=subprocess.PIPE)\n",
    "    out, err = proc.communicate()\n",
    "    print(out,err,out_fh)"
   ]
  },
  {
   "cell_type": "markdown",
   "metadata": {},
   "source": [
    "## 2.2 Rescaling using metadata\n",
    "### Example\n",
    "The metadata of a dataset contains information about the data such as what is measured, in which unit it is measured, and what is stored in the value. Very often, data is stored in integer *int* format to reduce memory storage space. Thus, to analyze the data as if it is physical values, the stored value must be rescaled, in other words, multiplied with a conversion factor or *multiplier*. For example, the code below is used to get the multiplier of WaPOR AETI dataset **L3_AETI_AWA_D**. Note that the multiplier can be different for different dataset."
   ]
  },
  {
   "cell_type": "code",
   "execution_count": 8,
   "metadata": {
    "collapsed": false
   },
   "outputs": [
    {
     "name": "stdout",
     "output_type": "stream",
     "text": [
      "L3_AETI_AWA_D multiplier: 0.1\n"
     ]
    }
   ],
   "source": [
    "import hkvwaporpy as hkv\n",
    "df=hkv.read_wapor.get_catalogus()\n",
    "\n",
    "ds_code='L3_AETI_AWA_D' \n",
    "cube_info=hkv.read_wapor.get_info_cube(cube_code=ds_code)\n",
    "multiplier = cube_info.loc['measures',ds_code].loc['multiplier'].iloc[0]\n",
    "print(ds_code+' multiplier: {0}'.format(multiplier))"
   ]
  },
  {
   "cell_type": "markdown",
   "metadata": {},
   "source": [
    "To multiply the raw data with a multiplier, you can open the mapset as a numerical array and do calculation with this array. The *gdal* package contains functions to work with raster mapset that can be used to do this task. A raster file has many properties including size, nodata value, transform, spatial reference, projection, etc. These information are stored in the dataset and can be read with *gdal* package. Below is the code to get these information from a GeoTIFF file. "
   ]
  },
  {
   "cell_type": "code",
   "execution_count": 21,
   "metadata": {
    "collapsed": false
   },
   "outputs": [
    {
     "name": "stdout",
     "output_type": "stream",
     "text": [
      "E:\\WaPOReg\\L3_AETI_AWA_D\\L3_AETI_0901_AWA.tif\n",
      "driver: <osgeo.gdal.Driver; proxy of <Swig Object of type 'GDALDriverShadow *' at 0x000000000CA76480> > \n",
      "NDV: -9999.0\n",
      "xsize: 3181\n",
      "ysize: 2541\n",
      "GeoT: (518055.0, 30.0, 0.0, 988515.0, 0.0, -30.0)\n",
      "Projection: PROJCS[\"WGS 84 / UTM zone 37N\",\n",
      "    GEOGCS[\"WGS 84\",\n",
      "        DATUM[\"WGS_1984\",\n",
      "            SPHEROID[\"WGS 84\",6378137,298.257223563,\n",
      "                AUTHORITY[\"EPSG\",\"7030\"]],\n",
      "            AUTHORITY[\"EPSG\",\"6326\"]],\n",
      "        PRIMEM[\"Greenwich\",0],\n",
      "        UNIT[\"degree\",0.0174532925199433],\n",
      "        AUTHORITY[\"EPSG\",\"4326\"]],\n",
      "    PROJECTION[\"Transverse_Mercator\"],\n",
      "    PARAMETER[\"latitude_of_origin\",0],\n",
      "    PARAMETER[\"central_meridian\",39],\n",
      "    PARAMETER[\"scale_factor\",0.9996],\n",
      "    PARAMETER[\"false_easting\",500000],\n",
      "    PARAMETER[\"false_northing\",0],\n",
      "    UNIT[\"metre\",1,\n",
      "        AUTHORITY[\"EPSG\",\"9001\"]],\n",
      "    AUTHORITY[\"EPSG\",\"32637\"]]\n"
     ]
    }
   ],
   "source": [
    "input_folder=r'E:\\WaPOReg\\L3_AETI_AWA_D'   # E:\\WaPORAnalysis\\2aL3_AETI_AWA_D_Clipped\n",
    "input_fhs=glob.glob(input_folder+'\\*.tif')\n",
    "\n",
    "in_fh=input_fhs[0]\n",
    "print(in_fh)\n",
    "\n",
    "from osgeo import gdal\n",
    "DataSet = gdal.Open(in_fh, gdal.GA_ReadOnly)\n",
    "\n",
    "import osr\n",
    "Type = DataSet.GetDriver().ShortName\n",
    "bandnumber=1\n",
    "Subdataset = DataSet.GetRasterBand(bandnumber)\n",
    "NDV = Subdataset.GetNoDataValue()\n",
    "xsize = DataSet.RasterXSize\n",
    "ysize = DataSet.RasterYSize\n",
    "GeoT = DataSet.GetGeoTransform()\n",
    "Projection = osr.SpatialReference()\n",
    "Projection.ImportFromWkt(DataSet.GetProjectionRef())\n",
    "driver = gdal.GetDriverByName(Type)\n",
    "\n",
    "print('driver: {0} \\nNDV: {1}\\nxsize: {2}\\nysize: {3}\\nGeoT: {4}\\nProjection: {5}'.format(\n",
    "    driver, NDV, xsize, ysize, GeoT, Projection))"
   ]
  },
  {
   "cell_type": "markdown",
   "metadata": {},
   "source": [
    "The data in *gdal* dataset can be read using *ReadAsArray* function. For example, the below code is used to read the opened GeoTIFF dataset as a numpy array. \n",
    "You can plot the data in this array using function in *matplotlib* library. Look at the example code and the output plot below. Notice the spatial actual EvapoTranspiration&Interception of the command area. Keep in mind that this is the raw data which show the average daily AETI in a dekad. Thus, the value in the color bar will be corrected with a multiplier and number of days in the next step."
   ]
  },
  {
   "cell_type": "code",
   "execution_count": 29,
   "metadata": {
    "collapsed": false,
    "scrolled": false
   },
   "outputs": [
    {
     "data": {
      "image/png": "[encoded data removed]",
      "text/plain": [
       "<matplotlib.figure.Figure at 0x12eaecc0>"
      ]
     },
     "metadata": {},
     "output_type": "display_data"
    }
   ],
   "source": [
    "import numpy as np\n",
    "Array = Subdataset.ReadAsArray().astype(np.float32)\n",
    "Array[Array == NDV] = np.nan\n",
    "\n",
    "from matplotlib import pyplot as plt\n",
    "plt.imshow(Array, cmap='RdYlGn')\n",
    "plt.colorbar()\n",
    "plt.title('Title')\n",
    "plt.xlabel('X axis')\n",
    "plt.ylabel('Y axis')\n",
    "plt.show()"
   ]
  },
  {
   "cell_type": "markdown",
   "metadata": {},
   "source": [
    "Normally, a dekad has 10 days except for the last dekad of the month. For example, the last dekad of February can have 8 or 9 days, and the last dekad of January has 11 days. The number of days in the raster period can be calculated when the starting and ending date is known. Recall that in the previous exercise, we can get this information using hkvwaporpy package's function *get_data_availaility*. Below you can see that each raster_id has a starting and ending day."
   ]
  },
  {
   "cell_type": "code",
   "execution_count": 30,
   "metadata": {
    "collapsed": false,
    "scrolled": true
   },
   "outputs": [
    {
     "name": "stdout",
     "output_type": "stream",
     "text": [
      "data_avail_period: DEKAD\n"
     ]
    },
    {
     "data": {
      "text/html": [
       "<div>\n",
       "<table border=\"1\" class=\"dataframe\">\n",
       "  <thead>\n",
       "    <tr style=\"text-align: right;\">\n",
       "      <th></th>\n",
       "      <th>start_dekad</th>\n",
       "      <th>end_dekad</th>\n",
       "      <th>raster_id</th>\n",
       "      <th>bbox_srid</th>\n",
       "      <th>bbox_value</th>\n",
       "    </tr>\n",
       "    <tr>\n",
       "      <th>year</th>\n",
       "      <th></th>\n",
       "      <th></th>\n",
       "      <th></th>\n",
       "      <th></th>\n",
       "      <th></th>\n",
       "    </tr>\n",
       "  </thead>\n",
       "  <tbody>\n",
       "    <tr>\n",
       "      <th>2009</th>\n",
       "      <td>0101</td>\n",
       "      <td>0110</td>\n",
       "      <td>L3_AETI_0901_AWA</td>\n",
       "      <td>EPSG:32637</td>\n",
       "      <td>[518055.0, 912285.0, 613485.0, 988515.0]</td>\n",
       "    </tr>\n",
       "    <tr>\n",
       "      <th>2009</th>\n",
       "      <td>0111</td>\n",
       "      <td>0120</td>\n",
       "      <td>L3_AETI_0902_AWA</td>\n",
       "      <td>EPSG:32637</td>\n",
       "      <td>[518055.0, 912285.0, 613485.0, 988515.0]</td>\n",
       "    </tr>\n",
       "    <tr>\n",
       "      <th>2009</th>\n",
       "      <td>0121</td>\n",
       "      <td>0131</td>\n",
       "      <td>L3_AETI_0903_AWA</td>\n",
       "      <td>EPSG:32637</td>\n",
       "      <td>[518055.0, 912285.0, 613485.0, 988515.0]</td>\n",
       "    </tr>\n",
       "    <tr>\n",
       "      <th>2009</th>\n",
       "      <td>0201</td>\n",
       "      <td>0210</td>\n",
       "      <td>L3_AETI_0904_AWA</td>\n",
       "      <td>EPSG:32637</td>\n",
       "      <td>[518055.0, 912285.0, 613485.0, 988515.0]</td>\n",
       "    </tr>\n",
       "    <tr>\n",
       "      <th>2009</th>\n",
       "      <td>0211</td>\n",
       "      <td>0220</td>\n",
       "      <td>L3_AETI_0905_AWA</td>\n",
       "      <td>EPSG:32637</td>\n",
       "      <td>[518055.0, 912285.0, 613485.0, 988515.0]</td>\n",
       "    </tr>\n",
       "  </tbody>\n",
       "</table>\n",
       "</div>"
      ],
      "text/plain": [
       "     start_dekad end_dekad         raster_id   bbox_srid  \\\n",
       "year                                                       \n",
       "2009        0101      0110  L3_AETI_0901_AWA  EPSG:32637   \n",
       "2009        0111      0120  L3_AETI_0902_AWA  EPSG:32637   \n",
       "2009        0121      0131  L3_AETI_0903_AWA  EPSG:32637   \n",
       "2009        0201      0210  L3_AETI_0904_AWA  EPSG:32637   \n",
       "2009        0211      0220  L3_AETI_0905_AWA  EPSG:32637   \n",
       "\n",
       "                                    bbox_value  \n",
       "year                                            \n",
       "2009  [518055.0, 912285.0, 613485.0, 988515.0]  \n",
       "2009  [518055.0, 912285.0, 613485.0, 988515.0]  \n",
       "2009  [518055.0, 912285.0, 613485.0, 988515.0]  \n",
       "2009  [518055.0, 912285.0, 613485.0, 988515.0]  \n",
       "2009  [518055.0, 912285.0, 613485.0, 988515.0]  "
      ]
     },
     "execution_count": 30,
     "metadata": {},
     "output_type": "execute_result"
    }
   ],
   "source": [
    "df_avail=hkv.read_wapor.get_data_availability(cube_info=cube_info,time_range='[2008-01-01,2018-12-31]')\n",
    "df_avail.head()"
   ]
  },
  {
   "cell_type": "markdown",
   "metadata": {},
   "source": [
    "We can access this information and use it to calculate the number of days in the raster period. Below is the example of how to get the number of days in the first raster period in the available data list *df_avail*. You can try to modify the code to do the same calculation for other raster periods."
   ]
  },
  {
   "cell_type": "code",
   "execution_count": 31,
   "metadata": {
    "collapsed": false
   },
   "outputs": [
    {
     "name": "stdout",
     "output_type": "stream",
     "text": [
      "L3_AETI_0901_AWA\n"
     ]
    },
    {
     "data": {
      "text/html": [
       "<div>\n",
       "<table border=\"1\" class=\"dataframe\">\n",
       "  <thead>\n",
       "    <tr style=\"text-align: right;\">\n",
       "      <th></th>\n",
       "      <th>start_dekad</th>\n",
       "      <th>end_dekad</th>\n",
       "      <th>raster_id</th>\n",
       "      <th>bbox_srid</th>\n",
       "      <th>bbox_value</th>\n",
       "    </tr>\n",
       "    <tr>\n",
       "      <th>year</th>\n",
       "      <th></th>\n",
       "      <th></th>\n",
       "      <th></th>\n",
       "      <th></th>\n",
       "      <th></th>\n",
       "    </tr>\n",
       "  </thead>\n",
       "  <tbody>\n",
       "    <tr>\n",
       "      <th>2009</th>\n",
       "      <td>0101</td>\n",
       "      <td>0110</td>\n",
       "      <td>L3_AETI_0901_AWA</td>\n",
       "      <td>EPSG:32637</td>\n",
       "      <td>[518055.0, 912285.0, 613485.0, 988515.0]</td>\n",
       "    </tr>\n",
       "  </tbody>\n",
       "</table>\n",
       "</div>"
      ],
      "text/plain": [
       "     start_dekad end_dekad         raster_id   bbox_srid  \\\n",
       "year                                                       \n",
       "2009        0101      0110  L3_AETI_0901_AWA  EPSG:32637   \n",
       "\n",
       "                                    bbox_value  \n",
       "year                                            \n",
       "2009  [518055.0, 912285.0, 613485.0, 988515.0]  "
      ]
     },
     "execution_count": 31,
     "metadata": {},
     "output_type": "execute_result"
    }
   ],
   "source": [
    "raster_id=os.path.split(in_fh)[-1].split('.')[0]\n",
    "print(raster_id)\n",
    "raster_info=df_avail.loc[df_avail['raster_id']==raster_id]\n",
    "raster_info"
   ]
  },
  {
   "cell_type": "code",
   "execution_count": 32,
   "metadata": {
    "collapsed": false
   },
   "outputs": [
    {
     "data": {
      "text/plain": [
       "10"
      ]
     },
     "execution_count": 32,
     "metadata": {},
     "output_type": "execute_result"
    }
   ],
   "source": [
    "start=int(raster_info['start_dekad'].iloc[0])\n",
    "end=int(raster_info['end_dekad'].iloc[0])\n",
    "ndays=end-start+1\n",
    "ndays"
   ]
  },
  {
   "cell_type": "markdown",
   "metadata": {},
   "source": [
    "Once we have the information of conversion factor *multiplier* and number of days *ndays*, we can correct the raw data in raster mapset by multiplying the opened array with these two values. See example below."
   ]
  },
  {
   "cell_type": "code",
   "execution_count": 33,
   "metadata": {
    "collapsed": false,
    "scrolled": false
   },
   "outputs": [
    {
     "name": "stdout",
     "output_type": "stream",
     "text": [
      "multiplier: 0.1\n",
      "number of days: 10\n"
     ]
    },
    {
     "data": {
      "image/png": "[encoded data removed]",
      "text/plain": [
       "<matplotlib.figure.Figure at 0xca917f0>"
      ]
     },
     "metadata": {},
     "output_type": "display_data"
    }
   ],
   "source": [
    "print('multiplier: {0}'.format(multiplier))\n",
    "print('number of days: {0}'.format(ndays))\n",
    "CorrectedArray=Array*multiplier*ndays\n",
    "plt.imshow(CorrectedArray)\n",
    "plt.colorbar()\n",
    "plt.show()"
   ]
  },
  {
   "cell_type": "markdown",
   "metadata": {},
   "source": [
    "To save our result as a raster file (GeoTIFF), we need to know the properties of the original raster file (driver, Nodata Value, size, extent, projection). Below is the example to save the above corrected array as a new raster file."
   ]
  },
  {
   "cell_type": "code",
   "execution_count": 34,
   "metadata": {
    "collapsed": false
   },
   "outputs": [
    {
     "name": "stdout",
     "output_type": "stream",
     "text": [
      "E:\\WaPOReg\\L3_AETI_AWA_D_clipped_corrected\\L3_AETI_0901_AWA.tif\n"
     ]
    }
   ],
   "source": [
    "output_folder=r'E:\\WaPOReg\\L3_AETI_AWA_D_clipped_corrected'\n",
    "out_fh=os.path.join(output_folder,raster_id+'.tif')\n",
    "\n",
    "datatypes = {\"uint8\": 1, \"int8\": 1, \"uint16\": 2, \"int16\": 3, \"Int16\": 3, \"uint32\": 4,\n",
    "\"int32\": 5, \"float32\": 6, \"float64\": 7, \"complex64\": 10, \"complex128\": 11,\n",
    "\"Int32\": 5, \"Float32\": 6, \"Float64\": 7, \"Complex64\": 10, \"Complex128\": 11,}\n",
    "    \n",
    "driver, NDV, xsize, ysize, GeoT, Projection\n",
    "DataSet = driver.Create(out_fh,xsize,ysize,1,datatypes['float32'])\n",
    "DataSet.GetRasterBand(1).SetNoDataValue(NDV)\n",
    "DataSet.SetGeoTransform(GeoT)\n",
    "DataSet.SetProjection(Projection.ExportToWkt())\n",
    "DataSet.GetRasterBand(1).WriteArray(CorrectedArray)\n",
    "print(out_fh)"
   ]
  },
  {
   "cell_type": "markdown",
   "metadata": {},
   "source": [
    "### Exercise (2.2)\n",
    "Correct the downloaded NPP data from Exercise 1. \n",
    "\n",
    "**Hint**: Make use of the functions in the examples. You can use a for-loop.\n",
    "\n",
    "**Tips**: You can make your own function with *def* to re-use later \n",
    "\n",
    "**def** Function(Inputs):\n",
    "\n",
    "    Do something with Inputs\n",
    "    \n",
    "    return Output"
   ]
  },
  {
   "cell_type": "code",
   "execution_count": null,
   "metadata": {
    "collapsed": true
   },
   "outputs": [],
   "source": [
    "'''\n",
    "Write your code here\n",
    "''' "
   ]
  },
  {
   "cell_type": "code",
   "execution_count": 15,
   "metadata": {
    "collapsed": true
   },
   "outputs": [],
   "source": [
    "import hkvwaporpy as hkv\n",
    "import glob\n",
    "import os\n",
    "from osgeo import gdal\n",
    "import numpy as np\n",
    "import osr\n",
    "\n",
    "def GetRasterInfo(in_fh):\n",
    "    DataSet = gdal.Open(in_fh, gdal.GA_ReadOnly)\n",
    "    Type = DataSet.GetDriver().ShortName\n",
    "    bandnumber=1\n",
    "    Subdataset = DataSet.GetRasterBand(bandnumber)\n",
    "    NDV = Subdataset.GetNoDataValue()\n",
    "    xsize = DataSet.RasterXSize\n",
    "    ysize = DataSet.RasterYSize\n",
    "    GeoT = DataSet.GetGeoTransform()\n",
    "    Projection = osr.SpatialReference()\n",
    "    Projection.ImportFromWkt(DataSet.GetProjectionRef())\n",
    "    driver = gdal.GetDriverByName(Type)\n",
    "    return NDV,xsize,ysize,GeoT,Projection,driver\n",
    "\n",
    "def OpenRasterAsArray(in_fh,nan_value=True,bandnumber=1,dtype='float32'):  \n",
    "    SourceDataSet = gdal.Open(in_fh, gdal.GA_ReadOnly)    \n",
    "    Subdataset = SourceDataSet.GetRasterBand(bandnumber)\n",
    "    NDV = Subdataset.GetNoDataValue()\n",
    "    Array = Subdataset.ReadAsArray().astype(dtype)\n",
    "    if nan_value:\n",
    "        Array[Array == NDV] = np.nan\n",
    "    return Array\n",
    "\n",
    "def SaveArrayAsRaster(Array,out_fh,NDV,xsize,ysize,GeoT,Projection,driver,dtype='float32'):\n",
    "    datatypes = {\"uint8\": 1, \"int8\": 1, \"uint16\": 2, \"int16\": 3, \"Int16\": 3, \"uint32\": 4,\n",
    "    \"int32\": 5, \"float32\": 6, \"float64\": 7, \"complex64\": 10, \"complex128\": 11,\n",
    "    \"Int32\": 5, \"Float32\": 6, \"Float64\": 7, \"Complex64\": 10, \"Complex128\": 11,}\n",
    "    DataSet = driver.Create(out_fh,xsize,ysize,1,datatypes[dtype])\n",
    "    if NDV is None:\n",
    "        NDV=-9999\n",
    "    DataSet.GetRasterBand(1).SetNoDataValue(NDV)\n",
    "    DataSet.SetGeoTransform(GeoT)\n",
    "    DataSet.SetProjection(Projection.ExportToWkt())\n",
    "    DataSet.GetRasterBand(1).WriteArray(Array)\n",
    "    return out_fh"
   ]
  },
  {
   "cell_type": "code",
   "execution_count": null,
   "metadata": {
    "collapsed": true,
    "scrolled": true
   },
   "outputs": [],
   "source": [
    "df=hkv.read_wapor.get_catalogus()\n",
    "ds_code='L3_NPP_AWA_D' \n",
    "cube_info=hkv.read_wapor.get_info_cube(cube_code=ds_code)\n",
    "df_avail=hkv.read_wapor.get_data_availability(cube_info=cube_info,time_range='[2008-01-01,2009-12-31]')\n",
    "\n",
    "### Get multiplier\n",
    "multiplier = cube_info.loc['measures',ds_code].loc['multiplier'].iloc[0]\n",
    "\n",
    "### Get input rasters\n",
    "input_folder=r'E:\\WaPOR\\L2_AETI_D'               # specify the folder of the directory holding the raster data to be corrected\n",
    "input_fhs=glob.glob(input_folder+'\\*.tif')\n",
    "\n",
    "output_folder=r'E:\\Exercise\\1.4\\Corrected\\L2_AETI_D' # the directory of the folder to save the corrected raster dataset\n",
    "### Get GeoInfo\n",
    "in_fh=input_fhs[0]\n",
    "NDV,xsize,ysize,GeoT,Projection,driver=GetRasterInfo(in_fh)\n",
    "\n",
    "### Calculation\n",
    "for in_fh in input_fhs:\n",
    "    ### Get number of days in raster period\n",
    "    raster_id=os.path.split(in_fh)[-1].split('.')[0]\n",
    "    raster_info=df_avail.loc[df_avail['raster_id']==raster_id]\n",
    "    start=int(raster_info['start_dekad'].iloc[0])\n",
    "    end=int(raster_info['end_dekad'].iloc[0])\n",
    "    ndays=end-start+1\n",
    "    ### Correct raster data with multiplier and number of days\n",
    "    Array=OpenRasterAsArray(in_fh)\n",
    "    CorrectedArray=Array*multiplier*ndays\n",
    "    ### Save corrected array\n",
    "    out_fh=os.path.join(output_folder,raster_id+'.tif')\n",
    "    SaveArrayAsRaster(CorrectedArray,out_fh,NDV,xsize,ysize,GeoT,Projection,driver) \n",
    "    print(out_fh)"
   ]
  }
 ],
 "metadata": {
  "kernelspec": {
   "display_name": "Python 2",
   "language": "python",
   "name": "python2"
  },
  "language_info": {
   "codemirror_mode": {
    "name": "ipython",
    "version": 2
   },
   "file_extension": ".py",
   "mimetype": "text/x-python",
   "name": "python",
   "nbconvert_exporter": "python",
   "pygments_lexer": "ipython2",
   "version": "2.7.13"
  }
 },
 "nbformat": 4,
 "nbformat_minor": 2
}
