{
 "cells": [
  {
   "cell_type": "markdown",
   "metadata": {},
   "source": [
    "# Water Accounting Plus toolbox (watools) package\n",
    "## Example\n",
    "\n",
    "The Water Accounting tools (watools) package includes several component packages and modules that facilitate the processes in Water Accounting Plus framework, such as collecting open-access data, derive water fluxes from remote sensing data, combine data into Water Accounting sheets. It was developed and is continuously being improved by WA team at IHE Delft (https://github.com/wateraccounting).\n",
    "\n",
    "### Get to know watools"
   ]
  },
  {
   "cell_type": "code",
   "execution_count": 1,
   "metadata": {
    "collapsed": false
   },
   "outputs": [
    {
     "name": "stdout",
     "output_type": "stream",
     "text": [
      "Help on package watools:\n",
      "\n",
      "NAME\n",
      "    watools - # -*- coding: utf-8 -*-\n",
      "\n",
      "FILE\n",
      "    c:\\users\\ntr002\\appdata\\local\\continuum\\anaconda2\\lib\\site-packages\\watools\\__init__.py\n",
      "\n",
      "PACKAGE CONTENTS\n",
      "    Collect (package)\n",
      "    Collect_Tools\n",
      "    Functions (package)\n",
      "    General (package)\n",
      "    Generator (package)\n",
      "    Models (package)\n",
      "    Products (package)\n",
      "    Sheets (package)\n",
      "    WebAccounts\n",
      "\n",
      "DATA\n",
      "    __all__ = ['General', 'Collect_Tools', 'WebAccounts', 'Collect', 'Prod...\n",
      "    __version__ = '0.1'\n",
      "\n",
      "VERSION\n",
      "    0.1\n",
      "\n",
      "\n"
     ]
    }
   ],
   "source": [
    "import watools\n",
    "help(watools)"
   ]
  },
  {
   "cell_type": "markdown",
   "metadata": {},
   "source": [
    "### Update newest version"
   ]
  },
  {
   "cell_type": "code",
   "execution_count": 2,
   "metadata": {
    "collapsed": false
   },
   "outputs": [
    {
     "name": "stdout",
     "output_type": "stream",
     "text": [
      "Help on module watools.Collect_Tools in watools:\n",
      "\n",
      "NAME\n",
      "    watools.Collect_Tools\n",
      "\n",
      "FILE\n",
      "    c:\\users\\ntr002\\appdata\\local\\continuum\\anaconda2\\lib\\site-packages\\watools\\collect_tools.py\n",
      "\n",
      "DESCRIPTION\n",
      "    Authors: Tim Hessels\n",
      "             UNESCO-IHE 2017\n",
      "    Contact: t.hessels@unesco-ihe.org\n",
      "    Repository: https://github.com/wateraccounting/wa\n",
      "    Module: watools\n",
      "\n",
      "FUNCTIONS\n",
      "    Newest()\n",
      "\n",
      "\n"
     ]
    }
   ],
   "source": [
    "help(watools.Collect_Tools)"
   ]
  },
  {
   "cell_type": "code",
   "execution_count": 3,
   "metadata": {
    "collapsed": false
   },
   "outputs": [
    {
     "name": "stdout",
     "output_type": "stream",
     "text": [
      "Download newest Water Accounting Plus tools\n",
      "Extract newest Water Accounting Plus tools\n",
      "Install newest Water Accounting Plus tools\n"
     ]
    },
    {
     "data": {
      "text/plain": [
       "()"
      ]
     },
     "execution_count": 3,
     "metadata": {},
     "output_type": "execute_result"
    }
   ],
   "source": [
    "watools.Collect_Tools.Newest()"
   ]
  },
  {
   "cell_type": "markdown",
   "metadata": {},
   "source": [
    "### Collect Data"
   ]
  },
  {
   "cell_type": "code",
   "execution_count": 4,
   "metadata": {
    "collapsed": false,
    "scrolled": false
   },
   "outputs": [
    {
     "name": "stdout",
     "output_type": "stream",
     "text": [
      "Help on package watools.Collect in watools:\n",
      "\n",
      "NAME\n",
      "    watools.Collect\n",
      "\n",
      "FILE\n",
      "    c:\\users\\ntr002\\appdata\\local\\continuum\\anaconda2\\lib\\site-packages\\watools\\collect\\__init__.py\n",
      "\n",
      "DESCRIPTION\n",
      "    Authors: Tim Hessels and Gonzalo Espinoza\n",
      "             UNESCO-IHE 2016\n",
      "    Contact: t.hessels@unesco-ihe.org\n",
      "             g.espinoza@unesco-ihe.org\n",
      "    Repository: https://github.com/wateraccounting/watools\n",
      "    Module: Collect\n",
      "    \n",
      "    \n",
      "    Description:\n",
      "    This module contains scripts used to download Level 1 data (data directly from web).\n",
      "    \n",
      "    Products                      Dates                             Password\n",
      "    ALEXI (daily)                 2005/01/01-2016/12/31             WA+ FTP\n",
      "    ALEXI (monthly)               2005/01/01-2016/12/31             WA+ FTP                         \n",
      "    ASCAT (daily)                 2007/01/01-now                    VITO\n",
      "    CFSR (daily)                  1979/01/01-now                    -\n",
      "    CHIRPS (daily)                1981/01/01-now                    -\n",
      "    CHIRPS (monthly)              1981/01/01-now                    -\n",
      "    CMRSET (monthly)              2000/01/01-2012/12/31             WA+ FTP\n",
      "    DEM                           -                                 -\n",
      "    ECMWF                         1979/01/01-now                    ECMWF_API\n",
      "    ETmonitor (monthly)           2008/01/01-2013/12/31             WA+ FTP    \n",
      "    GLDAS                         2000/01/01-now                    NASA\n",
      "    GLEAM (daily)                 2007/01/01-2017/12/31             GLEAM\n",
      "    GLEAM (monthly)               2007/01/01-2017/12/31             GLEAM            \n",
      "    HiHydroSoil                   -                                 WA+ FTP \n",
      "    JRC                           -                                 -\n",
      "    MCD43 (daily)                 2000/02/24-now                    NASA\n",
      "    MOD10 (8-daily)               2000/02/18-now                    NASA\n",
      "    MOD11 (daily)                 2000/02/24-now                    NASA\n",
      "    MOD11 (8-daily)               2000/02/18-now                    NASA\n",
      "    MOD12 (yearly)                2001/01/01-2013/12/31             NASA\n",
      "    MOD13 (16-daily)              2000/02/18-now                    NASA\n",
      "    MOD15 (8-daily)               2000/02/18-now                    NASA\n",
      "    MOD16 (8-daily)               2000/01/01-2014/12/31             NASA\n",
      "    MOD16 (monthly)               2000/01/01-2014/12/31             NASA\n",
      "    MOD17 (8-daily GPP)           2000/02/18-now                    NASA\n",
      "    MOD17 (yearly NPP)            2000/02/18-2015/12/31             NASA\n",
      "    MOD9 (daily)                  2000/02/24-now                    NASA\n",
      "    MSWEP (daily)                 1979/01/01-now                    MSWEP\n",
      "    MSWEP (monthly)               1979/01/01-now                    MSWEP\n",
      "    MYD13 (16-daily)              2000/02/18-now                    NASA\n",
      "    RFE (daily)                   2001/01/01-now                    -\n",
      "    RFE (monthly)                 2001/01/01-now                    -                  \n",
      "    SEBS (monthly)                2000/03/01-2015/12/31             WA+ guest FTP\n",
      "    SSEBop (monthly)              2003/01/01-2014/10/31             WA+ FTP \n",
      "    SoilGrids                     -                                 -\n",
      "    TRMM (daily)                  1998/01/01-2018/06/29             NASA\n",
      "    TRMM (monthly)                1998/01/01-2018/06/30             NASA\n",
      "    TWC                           -                                 WA+ guest FTP \n",
      "    \n",
      "    Examples:\n",
      "    from watools import Collect\n",
      "    help(Collect)\n",
      "    dir(Collect)\n",
      "\n",
      "PACKAGE CONTENTS\n",
      "    ALEXI (package)\n",
      "    ASCAT (package)\n",
      "    CFSR (package)\n",
      "    CHIRPS (package)\n",
      "    CMRSET (package)\n",
      "    DEM (package)\n",
      "    ECMWF (package)\n",
      "    ETmonitor (package)\n",
      "    FEWS (package)\n",
      "    GLDAS (package)\n",
      "    GLEAM (package)\n",
      "    GPM (package)\n",
      "    HiHydroSoil (package)\n",
      "    JRC (package)\n",
      "    MCD43 (package)\n",
      "    MOD10 (package)\n",
      "    MOD11 (package)\n",
      "    MOD12 (package)\n",
      "    MOD13 (package)\n",
      "    MOD15 (package)\n",
      "    MOD16 (package)\n",
      "    MOD17 (package)\n",
      "    MOD9 (package)\n",
      "    MSWEP (package)\n",
      "    MYD13 (package)\n",
      "    PROBAV (package)\n",
      "    RFE (package)\n",
      "    SEBS (package)\n",
      "    SSEBop (package)\n",
      "    SoilGrids (package)\n",
      "    TRMM (package)\n",
      "    TWC (package)\n",
      "\n",
      "DATA\n",
      "    __all__ = ['TRMM', 'GLDAS', 'ALEXI', 'CHIRPS', 'DEM', 'CFSR', 'MOD9', ...\n",
      "    __version__ = '0.1'\n",
      "\n",
      "VERSION\n",
      "    0.1\n",
      "\n",
      "\n"
     ]
    }
   ],
   "source": [
    "from watools import Collect\n",
    "help(Collect)"
   ]
  },
  {
   "cell_type": "code",
   "execution_count": 5,
   "metadata": {
    "collapsed": false
   },
   "outputs": [
    {
     "name": "stdout",
     "output_type": "stream",
     "text": [
      "Help on module watools.WebAccounts in watools:\n",
      "\n",
      "NAME\n",
      "    watools.WebAccounts - Created on Thu Mar 17 09:27:36 2016\n",
      "\n",
      "FILE\n",
      "    c:\\users\\ntr002\\appdata\\local\\continuum\\anaconda2\\lib\\site-packages\\watools\\webaccounts.py\n",
      "\n",
      "DESCRIPTION\n",
      "    @author: tih\n",
      "\n",
      "FUNCTIONS\n",
      "    Accounts(Type=None)\n",
      "\n",
      "\n"
     ]
    }
   ],
   "source": [
    "help(watools.WebAccounts)"
   ]
  },
  {
   "cell_type": "markdown",
   "metadata": {
    "collapsed": true
   },
   "source": [
    "Open WebAccounts.py (using the path in FILE) and fill in accounts and passwords for RS databse.\n",
    "You can create and use your own account or public Water Accounting account.\n",
    "\n",
    "**def** Accounts(Type=None):\n",
    "\n",
    "    User_Pass = {\n",
    "     'NASA': ['wateraccountingguest', 'W@t3r@ccounting'], #https://urs.earthdata.nasa.gov/users/new\n",
    "     'GLEAM': ['', ''], #www.gleam.eu\n",
    "     'FTP_WA': ['wateraccountingguest', 'W@t3r@ccounting'],\n",
    "     'MSWEP': ['', ''], #www.gloh2o.org\n",
    "     'Copernicus': ['', ''],  #https://land.copernicus.vgt.vito.be/PDF/\n",
    "     'VITO': ['', '']}     #https://www.vito-eodata.be/PDF/datapool/\n",
    "\t \n",
    "    Selected_Path = User_Pass[Type]\n",
    "\n",
    "    return(Selected_Path)"
   ]
  },
  {
   "cell_type": "markdown",
   "metadata": {},
   "source": [
    "### Collect Data"
   ]
  },
  {
   "cell_type": "code",
   "execution_count": 8,
   "metadata": {
    "collapsed": false,
    "scrolled": false
   },
   "outputs": [
    {
     "name": "stdout",
     "output_type": "stream",
     "text": [
      "Help on package watools.Collect in watools:\n",
      "\n",
      "NAME\n",
      "    watools.Collect\n",
      "\n",
      "FILE\n",
      "    c:\\users\\ntr002\\appdata\\local\\continuum\\anaconda2\\lib\\site-packages\\watools\\collect\\__init__.py\n",
      "\n",
      "DESCRIPTION\n",
      "    Authors: Tim Hessels and Gonzalo Espinoza\n",
      "             UNESCO-IHE 2016\n",
      "    Contact: t.hessels@unesco-ihe.org\n",
      "             g.espinoza@unesco-ihe.org\n",
      "    Repository: https://github.com/wateraccounting/watools\n",
      "    Module: Collect\n",
      "    \n",
      "    \n",
      "    Description:\n",
      "    This module contains scripts used to download Level 1 data (data directly from web).\n",
      "    \n",
      "    Products                      Dates                             Password\n",
      "    ALEXI (daily)                 2005/01/01-2016/12/31             WA+ FTP\n",
      "    ALEXI (monthly)               2005/01/01-2016/12/31             WA+ FTP                         \n",
      "    ASCAT (daily)                 2007/01/01-now                    VITO\n",
      "    CFSR (daily)                  1979/01/01-now                    -\n",
      "    CHIRPS (daily)                1981/01/01-now                    -\n",
      "    CHIRPS (monthly)              1981/01/01-now                    -\n",
      "    CMRSET (monthly)              2000/01/01-2012/12/31             WA+ FTP\n",
      "    DEM                           -                                 -\n",
      "    ECMWF                         1979/01/01-now                    ECMWF_API\n",
      "    ETmonitor (monthly)           2008/01/01-2013/12/31             WA+ FTP    \n",
      "    GLDAS                         2000/01/01-now                    NASA\n",
      "    GLEAM (daily)                 2007/01/01-2017/12/31             GLEAM\n",
      "    GLEAM (monthly)               2007/01/01-2017/12/31             GLEAM            \n",
      "    HiHydroSoil                   -                                 WA+ FTP \n",
      "    JRC                           -                                 -\n",
      "    MCD43 (daily)                 2000/02/24-now                    NASA\n",
      "    MOD10 (8-daily)               2000/02/18-now                    NASA\n",
      "    MOD11 (daily)                 2000/02/24-now                    NASA\n",
      "    MOD11 (8-daily)               2000/02/18-now                    NASA\n",
      "    MOD12 (yearly)                2001/01/01-2013/12/31             NASA\n",
      "    MOD13 (16-daily)              2000/02/18-now                    NASA\n",
      "    MOD15 (8-daily)               2000/02/18-now                    NASA\n",
      "    MOD16 (8-daily)               2000/01/01-2014/12/31             NASA\n",
      "    MOD16 (monthly)               2000/01/01-2014/12/31             NASA\n",
      "    MOD17 (8-daily GPP)           2000/02/18-now                    NASA\n",
      "    MOD17 (yearly NPP)            2000/02/18-2015/12/31             NASA\n",
      "    MOD9 (daily)                  2000/02/24-now                    NASA\n",
      "    MSWEP (daily)                 1979/01/01-now                    MSWEP\n",
      "    MSWEP (monthly)               1979/01/01-now                    MSWEP\n",
      "    MYD13 (16-daily)              2000/02/18-now                    NASA\n",
      "    RFE (daily)                   2001/01/01-now                    -\n",
      "    RFE (monthly)                 2001/01/01-now                    -                  \n",
      "    SEBS (monthly)                2000/03/01-2015/12/31             WA+ guest FTP\n",
      "    SSEBop (monthly)              2003/01/01-2014/10/31             WA+ FTP \n",
      "    SoilGrids                     -                                 -\n",
      "    TRMM (daily)                  1998/01/01-2018/06/29             NASA\n",
      "    TRMM (monthly)                1998/01/01-2018/06/30             NASA\n",
      "    TWC                           -                                 WA+ guest FTP \n",
      "    \n",
      "    Examples:\n",
      "    from watools import Collect\n",
      "    help(Collect)\n",
      "    dir(Collect)\n",
      "\n",
      "PACKAGE CONTENTS\n",
      "    ALEXI (package)\n",
      "    ASCAT (package)\n",
      "    CFSR (package)\n",
      "    CHIRPS (package)\n",
      "    CMRSET (package)\n",
      "    DEM (package)\n",
      "    ECMWF (package)\n",
      "    ETmonitor (package)\n",
      "    FEWS (package)\n",
      "    GLDAS (package)\n",
      "    GLEAM (package)\n",
      "    GPM (package)\n",
      "    HiHydroSoil (package)\n",
      "    JRC (package)\n",
      "    MCD43 (package)\n",
      "    MOD10 (package)\n",
      "    MOD11 (package)\n",
      "    MOD12 (package)\n",
      "    MOD13 (package)\n",
      "    MOD15 (package)\n",
      "    MOD16 (package)\n",
      "    MOD17 (package)\n",
      "    MOD9 (package)\n",
      "    MSWEP (package)\n",
      "    MYD13 (package)\n",
      "    PROBAV (package)\n",
      "    RFE (package)\n",
      "    SEBS (package)\n",
      "    SSEBop (package)\n",
      "    SoilGrids (package)\n",
      "    TRMM (package)\n",
      "    TWC (package)\n",
      "\n",
      "DATA\n",
      "    __all__ = ['TRMM', 'GLDAS', 'ALEXI', 'CHIRPS', 'DEM', 'CFSR', 'MOD9', ...\n",
      "    __version__ = '0.1'\n",
      "\n",
      "VERSION\n",
      "    0.1\n",
      "\n",
      "\n"
     ]
    }
   ],
   "source": [
    "help(watools.Collect)"
   ]
  },
  {
   "cell_type": "code",
   "execution_count": 9,
   "metadata": {
    "collapsed": false
   },
   "outputs": [
    {
     "name": "stdout",
     "output_type": "stream",
     "text": [
      "Help on package watools.Collect.SSEBop in watools.Collect:\n",
      "\n",
      "NAME\n",
      "    watools.Collect.SSEBop\n",
      "\n",
      "FILE\n",
      "    c:\\users\\ntr002\\appdata\\local\\continuum\\anaconda2\\lib\\site-packages\\watools\\collect\\ssebop\\__init__.py\n",
      "\n",
      "DESCRIPTION\n",
      "    Authors: Tim Hessels and Gonzalo Espinoza\n",
      "             UNESCO-IHE 2017\n",
      "    Contact: t.hessels@unesco-ihe.org\n",
      "             g.espinoza@unesco-ihe.org\n",
      "    Repository: https://github.com/wateraccounting/watools\n",
      "    Module: Collect/SSEBop\n",
      "    \n",
      "    Restrictions:\n",
      "    The data and this python file may not be distributed to others without\n",
      "    permission of the WA+ team due data restriction of the SSEBop developers.\n",
      "    \n",
      "    Description:\n",
      "    This module downloads SSEBop data from\n",
      "    ftp.wateraccounting.unesco-ihe.org. Use the SSEBop.monthly function to\n",
      "    download and create monthly SSEBop images in Gtiff format.\n",
      "    Data is available between 2003-01-01 till 2014-10-31. If the FTP version is used\n",
      "    The data goes till present if the V4 version is used (Default)\n",
      "    \n",
      "    Examples:\n",
      "    from watools.Collect import SSEBop\n",
      "    SSEBop.ET_monthly(Dir='C:/Temp/', Startdate='2008-12-01', Enddate='2011-01-20',\n",
      "               latlim=[-10, 30], lonlim=[-20, -10])\n",
      "\n",
      "PACKAGE CONTENTS\n",
      "    DataAccess\n",
      "    ET_monthly\n",
      "    ETpot_daily\n",
      "\n",
      "FUNCTIONS\n",
      "    ET_monthly = main(Dir, Startdate='', Enddate='', latlim=[-59.17, 80], lonlim=[-180, 180], version='V4', Waitbar=1)\n",
      "        This function downloads monthly SSEBop data\n",
      "        \n",
      "        Keyword arguments:\n",
      "        Dir -- 'C:/file/to/path/'\n",
      "        Startdate -- 'yyyy-mm-dd'\n",
      "        Enddate -- 'yyyy-mm-dd'\n",
      "        latlim -- [ymin, ymax] (values must be between -59.17 and 80)\n",
      "        lonlim -- [xmin, xmax] (values must be between -180 and 180)\n",
      "    \n",
      "    ETpot_daily = main(Dir, Startdate='', Enddate='', latlim=[-59.17, 80], lonlim=[-180, 180], version='V4', Waitbar=1)\n",
      "        This function downloads daily FEWS Potential Evapotranspiration data\n",
      "        \n",
      "        Keyword arguments:\n",
      "        Dir -- 'C:/file/to/path/'\n",
      "        Startdate -- 'yyyy-mm-dd'\n",
      "        Enddate -- 'yyyy-mm-dd'\n",
      "        latlim -- [ymin, ymax] (values must be between -59.17 and 80)\n",
      "        lonlim -- [xmin, xmax] (values must be between -180 and 180)\n",
      "\n",
      "DATA\n",
      "    __all__ = ['ET_monthly', 'ETpot_daily']\n",
      "    __version__ = '0.1'\n",
      "\n",
      "VERSION\n",
      "    0.1\n",
      "\n",
      "\n"
     ]
    }
   ],
   "source": [
    "help(watools.Collect.SSEBop)"
   ]
  },
  {
   "cell_type": "code",
   "execution_count": 11,
   "metadata": {
    "collapsed": false
   },
   "outputs": [
    {
     "name": "stdout",
     "output_type": "stream",
     "text": [
      "\n",
      "Download monthly SSEBop evapotranspiration data for the period 2009-01-01 till 2009-02-01\n",
      "Progress: |██████████████████████████████████████████████████| 100.0% Complete()\n"
     ]
    }
   ],
   "source": [
    "Extent=[37.95883206252312, 7.89534, 43.32093, 12.3873979377346]\n",
    "watools.Collect.SSEBop.ET_monthly(Dir=r'D:\\FAO\\Training\\ETH_1907\\Material\\Data\\Downloads',\n",
    "                                  Startdate='2009-01-01',Enddate='2009-02-01',\n",
    "                                 latlim=[Extent[1],Extent[3]],lonlim=[Extent[0],Extent[2]])"
   ]
  },
  {
   "cell_type": "markdown",
   "metadata": {},
   "source": [
    "### Exercise (optional ++++)\n",
    "Collect other EvapoTranspiration products for Awash and compare with WaPOR AETI product\n",
    "\n",
    "**Tips**\n",
    "- Download raster map of the same time step, period, warp the mapset, calculate average ET of the basin (monthly or annualy).\n",
    "- Not all products are available for a chosen period.\n",
    "- Every product has different spatial and temporal resolution and accuracy. Resampling to the same resolution can create error propagation. Keep this in mind when compare different products.\n"
   ]
  }
 ],
 "metadata": {
  "kernelspec": {
   "display_name": "Python 2",
   "language": "python",
   "name": "python2"
  },
  "language_info": {
   "codemirror_mode": {
    "name": "ipython",
    "version": 2
   },
   "file_extension": ".py",
   "mimetype": "text/x-python",
   "name": "python",
   "nbconvert_exporter": "python",
   "pygments_lexer": "ipython2",
   "version": "2.7.13"
  }
 },
 "nbformat": 4,
 "nbformat_minor": 2
}
